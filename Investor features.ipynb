{
 "cells": [
  {
   "cell_type": "markdown",
   "metadata": {},
   "source": [
    "## Dependencies\n",
    "\n",
    "`pip install [modules]`\n",
    "* jupyter\n",
    "* pandas\n",
    "  * numexpr (optional, speedup)\n",
    "  * bottleneck (optional, speedup)\n",
    "\n",
    "*PostgreSQL support*\n",
    "* sqlalchemy\n",
    "* psycopg2\n",
    "\n",
    "*Machine learning*\n",
    "* scikit-learn\n",
    "* sklearn-pandas\n",
    "* imbalanced-learn\n",
    "* networkx\n",
    "\n",
    "*Only for plotting*\n",
    "* matplotlib\n",
    "* seaborn"
   ]
  },
  {
   "cell_type": "code",
   "execution_count": 4,
   "metadata": {
    "collapsed": true
   },
   "outputs": [],
   "source": [
    "import sqlalchemy\n",
    "import numpy  as np\n",
    "import pandas as pd\n",
    "import matplotlib.pyplot as plt\n",
    "import seaborn as sn\n",
    "\n",
    "%matplotlib inline"
   ]
  },
  {
   "cell_type": "code",
   "execution_count": 3,
   "metadata": {
    "collapsed": true
   },
   "outputs": [],
   "source": [
    "db = sqlalchemy.create_engine('postgresql://localhost/crunchbase')\n",
    "connection = db.connect()"
   ]
  },
  {
   "cell_type": "markdown",
   "metadata": {},
   "source": [
    "## Companies\n",
    "\n",
    "At this section we select the companies we want to work on using the following criteria:\n",
    "\n",
    "* At least one funding round of any type\n",
    "* Primary role is *company*\n",
    "* Established in year 2001 or later — see `START_DATE`\n",
    "* Really early shut downs and exits are neglected (before 60 days) — see `MIN_DAYS`\n",
    "\n",
    "The query is somewhat large, we join tables\n",
    "\n",
    "* `crunchbase_organizations`\n",
    "* `crunchbase_acquisitions`\n",
    "* `crunchbase_ipos`\n",
    "* `crunchbase_funding_rounds`\n",
    "\n",
    "to get companies along the following fields: `uuid`, `company_name`, `first_funding_round_on`, `last_funding_round_on`, `closed_on`, `acquired_on`, `went_public_on`.\n",
    "\n",
    "Company status reference: ipo, operating, closed, acquired.\n",
    "\n",
    "Company primary role reference: investor, company, school, group."
   ]
  },
  {
   "cell_type": "code",
   "execution_count": 366,
   "metadata": {
    "collapsed": true
   },
   "outputs": [],
   "source": [
    "START_DATE = '2001-01-01' # greater or equal than\n",
    "\n",
    "MIN_DAYS = 60\n",
    "\n",
    "\n",
    "query = \"\"\"\n",
    "\n",
    "SELECT o.uuid, o.company_name, first_funding_round_on, last_funding_round_on, closed_on, acquired_on, went_public_on\n",
    "FROM crunchbase_organizations AS o\n",
    "\n",
    "-- if company has been acquired multiple times, just bring the earliest acquisition\n",
    "LEFT OUTER JOIN (\n",
    "        SELECT DISTINCT ON (acquiree_uuid) acquiree_uuid, acquired_on\n",
    "        FROM crunchbase_acquisitions\n",
    "        ORDER BY acquiree_uuid, acquired_on\n",
    ") AS a\n",
    "        ON o.uuid = a.acquiree_uuid\n",
    "\n",
    "-- if company has multiple public offerings, just bring the earliest IPO\n",
    "LEFT OUTER JOIN (\n",
    "        SELECT DISTINCT ON (uuid) uuid, went_public_on\n",
    "        FROM crunchbase_ipos\n",
    "        ORDER BY uuid, went_public_on\n",
    ") AS i\n",
    "        ON o.uuid = i.uuid\n",
    "\n",
    "-- keep companies that have at least one funding round\n",
    "JOIN (\n",
    "        SELECT\n",
    "            company_uuid,\n",
    "            min(announced_on) AS first_funding_round_on,\n",
    "            max(announced_on) AS last_funding_round_on\n",
    "        FROM crunchbase_funding_rounds\n",
    "        GROUP BY company_uuid\n",
    ") AS f\n",
    "        ON o.uuid = f.company_uuid\n",
    "\n",
    "WHERE first_funding_round_on >= '%s' AND primary_role = 'company'\n",
    "    \n",
    "\"\"\" % START_DATE\n",
    "\n",
    "\n",
    "orgs = pd.read_sql_query(query, connection,\n",
    "    parse_dates=['first_funding_round_on', 'last_funding_round_on', 'closed_on', 'acquired_on', 'went_public_on'], coerce_float=False)\n",
    "\n",
    "orgs.uuid = orgs.uuid.astype('str') # Pandas merge does not work without this\n",
    "orgs.set_index('uuid', inplace=True)"
   ]
  },
  {
   "cell_type": "markdown",
   "metadata": {},
   "source": [
    "**About foundations**: `funded_on` and `first_funding_on` dates (from `crunchbase_organizations` table) are unreliable. We take `first_funding_round_on` (joined from `crunchbase_funding_rounds`) as a verisimilar foundation date.\n",
    "\n",
    "**About status**: The `status` attribute (from `crunchbase_organizations` table) is not neatly filled, so we cannot rely on it; `closed_on`, `acquired_on` (joined from `crunchbase_acquisitions`), `went_public_on` (joined from `crunchbase_ipos`) dates are better indicators of a company's fate.\n",
    "\n",
    "**Heads up**! There are status changes. Some acquired companies were later closed, others were acquired and went public later; on the other hand some companies that went public in the first place were acquired or closed afterwards... not to speak about companies that closed before having an exit. In order to disambiguate the status, `acquired_on` and `went_public_on` have precedence over `closed_on`, between the former two we choose the lesser date (favoring acquisition in case of tie). Moreover, some companies were acquired and/or went public multiple times, we consider the earlier of these events only."
   ]
  },
  {
   "cell_type": "code",
   "execution_count": 367,
   "metadata": {
    "collapsed": false
   },
   "outputs": [],
   "source": [
    "acquired  = orgs[(orgs.acquired_on <= orgs.went_public_on) | (orgs.acquired_on.notnull() & orgs.went_public_on.isnull() )]\n",
    "ipoed     = orgs[(orgs.acquired_on >  orgs.went_public_on) | (orgs.acquired_on.isnull()  & orgs.went_public_on.notnull())]\n",
    "closed    = orgs[orgs.closed_on.notnull() & orgs.acquired_on.isnull() & orgs.went_public_on.isnull()]\n",
    "operating = orgs[orgs.closed_on.isnull()  & orgs.acquired_on.isnull() & orgs.went_public_on.isnull()]\n",
    "\n",
    "orgs.loc[acquired.index,  'status'] = 'acquired' \n",
    "orgs.loc[ipoed.index,     'status'] = 'ipoed'\n",
    "orgs.loc[closed.index,    'status'] = 'closed'\n",
    "orgs.loc[operating.index, 'status'] = 'operating'\n",
    "\n",
    "# significative dates in the data set\n",
    "MOST_RECENT_DATA_SET_DATE  = orgs.last_funding_round_on.max()\n",
    "LEAST_RECENT_DATA_SET_DATE = orgs.last_funding_round_on.min()\n",
    "\n",
    "orgs.loc[acquired.index,  'status_on'] = acquired.acquired_on\n",
    "orgs.loc[ipoed.index,     'status_on'] = ipoed.went_public_on\n",
    "orgs.loc[closed.index,    'status_on'] = closed.closed_on\n",
    "orgs.loc[operating.index, 'status_on'] = MOST_RECENT_DATA_SET_DATE\n",
    "\n",
    "orgs.drop(['closed_on', 'acquired_on', 'went_public_on'], axis=1, inplace=True) # no needed anymore"
   ]
  },
  {
   "cell_type": "markdown",
   "metadata": {},
   "source": [
    "We compute a fundamental feature: days since foundation (`status_on`). We drop those companies with negative days since foundation, which does not make sense."
   ]
  },
  {
   "cell_type": "code",
   "execution_count": 368,
   "metadata": {
    "collapsed": false
   },
   "outputs": [],
   "source": [
    "orgs['status_days'] = (orgs.status_on - orgs.first_funding_round_on).dt.days\n",
    "orgs = orgs[0 <= orgs.status_days]\n",
    "\n",
    "orgs.drop('status_on', axis=1, inplace=True) # accomplished its mission"
   ]
  },
  {
   "cell_type": "markdown",
   "metadata": {},
   "source": [
    "Furthermore, we drop companies that exited or closed **within the first 60 days** of operation. This is discretional, could be more, could not be at all. It seems noisy data because it takes on average 4 to 7 years to make an exit, on the other side, closing right after starting seems not even trying."
   ]
  },
  {
   "cell_type": "code",
   "execution_count": 369,
   "metadata": {
    "collapsed": false
   },
   "outputs": [],
   "source": [
    "orgs = orgs[(orgs.status == 'operating') | (MIN_DAYS <= orgs.status_days)]"
   ]
  },
  {
   "cell_type": "markdown",
   "metadata": {},
   "source": [
    "## Labels"
   ]
  },
  {
   "cell_type": "code",
   "execution_count": 370,
   "metadata": {
    "collapsed": false
   },
   "outputs": [
    {
     "name": "stdout",
     "output_type": "stream",
     "text": [
      "Operating  74379\n",
      "Exited      8971\n",
      "Closed      2249\n"
     ]
    }
   ],
   "source": [
    "status_merger = lambda x: 'exited' if x == 'acquired' or x == 'ipoed' else x\n",
    "\n",
    "orgs['merged_status'] = orgs.status.apply(status_merger)\n",
    "\n",
    "c = orgs.merged_status.value_counts()\n",
    "print('Operating %6s' % c.operating)\n",
    "print('Exited    %6s' % c.exited)\n",
    "print('Closed    %6s' % c.closed)"
   ]
  },
  {
   "cell_type": "markdown",
   "metadata": {},
   "source": [
    "**It is known that the success rate of startups is grossly 10%. The data set provides a success rate of 80%. Crunchbase is highly biased to successful companies.**"
   ]
  },
  {
   "cell_type": "markdown",
   "metadata": {},
   "source": [
    "## Features\n",
    "\n",
    "**Companies** raise **investments** through **funding rounds**. Companies can invest in other companies and can also make acquisitions as part of their business: this is the scope of **acquisitions** and **investments** set of features.\n",
    "\n",
    "**Companies**\n",
    "* ~~categories~~ — planned\n",
    "* status days — its meaning depends on the status: days operating, days to exit or days to shut down\n",
    "\n",
    "**Acquisitions**\n",
    "* #acquisitions\n",
    "* total expended amount\n",
    "\n",
    "**Investments**\n",
    "* #investments\n",
    "* #venture investments\n",
    "* total invested amount\n",
    "\n",
    "**Funding rounds**\n",
    "* #funding rounds\n",
    "* #venture funding rounds\n",
    "* #investments\n",
    "* **raised amount** — comes in flavors; suppose **seed** funding 1.5M / series **A** 2M / series **B** 1M / series **C** 3M\n",
    "  * total raised amount = 7.5M (seed + A + B + C)\n",
    "  * last N raised amounts\n",
    "    * **n0** = 3M (C)\n",
    "    * **n1** = 1M (B)\n",
    "    * **n2** = 2M (A)\n",
    "  * last N aggregated raised amounts\n",
    "    * **s0** = 7.5M (seed + A + B + C)\n",
    "    * **s1** = 4.5M (seed + A + B)\n",
    "    * **s2** = 3.5M (seed + A)\n",
    "  * last N highest raised amounts\n",
    "    * **d0** = 3M (C)\n",
    "    * **d1** = 2M (A)\n",
    "    * **d2** = 1.5M (seed)\n",
    "\n",
    "**Investors**\n",
    "* #investors\n",
    "\n",
    "*Aggregated by unique investors for a company* (see notes for an explanation)\n",
    "* #rounds\n",
    "* #venture rounds / #rounds\n",
    "* #companies / #rounds\n",
    "* #leads / #rounds\n",
    "* #returns / #rounds\n",
    "* #losses / #rounds\n",
    "* invested amount / #rounds\n",
    "* investor score\n",
    "\n",
    "### Notes on investor features\n",
    "\n",
    "Except for **#investors** that is the number of unique investors that invested in a particular company, **all other investor features are calculated independently from company features**, then aggregated and applied as company features.\n",
    "\n",
    "In example, as an investor feature, **#rounds** is the number of funding rounds that an investor has in his/her career. As a company feature, it is the sum of the number of rounds of all the investors for the considered company. If a company is backed by experienced investors the overall **#rounds** will be higher than if they were newcomers.\n",
    "\n",
    "Most investor features are averaged by **#rounds**, otherwise big venture capital firms outperform the average investor.\n",
    "\n",
    "**#returns** and **#losses** are counted from investments, not companies. If an investor made two investments in the same company and that company exited, then two returns were achieved.\n",
    "\n",
    "The **investor score** is the result of building a network of investors and using the *Katz centrality* measure to measure the relative degree of influence of each investor in the network."
   ]
  },
  {
   "cell_type": "markdown",
   "metadata": {
    "collapsed": false
   },
   "source": [
    "## Complementary data\n",
    "\n",
    "Emphasis was put on companies to carefully select with which to work. In this section we prepare some data to add features to these companies."
   ]
  },
  {
   "cell_type": "code",
   "execution_count": 209,
   "metadata": {
    "collapsed": true
   },
   "outputs": [],
   "source": [
    "def join(query, data_set):\n",
    "    df = pd.read_sql_query(query, connection, parse_dates=['on'])\n",
    "\n",
    "    df.company_uuid = df.company_uuid.astype('str') # Pandas merge does not work without this\n",
    "    \n",
    "    # filter by companies we have prepared\n",
    "    df = pd.DataFrame.merge(data_set, df, left_index=True, right_on='company_uuid', how='inner') \n",
    "\n",
    "    df.amount  = df.amount.fillna(0)\n",
    "    df['days'] = (df.on - df.first_funding_round_on).dt.days # days since foundation\n",
    "    \n",
    "    # remove pre-foundation events (faulty data) and post-status events (i.e. post-IPO funding rounds)\n",
    "    df = df[(0 <= df.days) & (df.days <= df.status_days)]\n",
    "    \n",
    "    # drop unnecessary columns: first_funding_round_on, last_funding_round_on, status, merged_status, status_days, on\n",
    "    df.drop(['first_funding_round_on', 'last_funding_round_on', 'status_days'], axis=1, inplace=True)\n",
    "    \n",
    "    return df"
   ]
  },
  {
   "cell_type": "markdown",
   "metadata": {},
   "source": [
    "#### Acquisitions (made by companies)"
   ]
  },
  {
   "cell_type": "code",
   "execution_count": 493,
   "metadata": {
    "collapsed": false
   },
   "outputs": [],
   "source": [
    "companies_acquisitions_query = \"\"\"\n",
    "\n",
    "SELECT o.uuid AS company_uuid, a.acquired_on AS on, a.price_usd AS amount\n",
    "FROM crunchbase_organizations AS o\n",
    "JOIN crunchbase_acquisitions  AS a\n",
    "        ON o.uuid = a.acquirer_uuid  \n",
    "\n",
    "\"\"\"\n",
    "\n",
    "acquisitions = join(companies_acquisitions_query, orgs)"
   ]
  },
  {
   "cell_type": "markdown",
   "metadata": {},
   "source": [
    "#### Investments (made by companies)\n",
    "\n",
    "Crunchbase does not tell the invested amount per investor in a funding ound,\n",
    "it does tell the raised amount (total amount) and number of investors.\n",
    "The best guess we can do is to suppose that in a funding round all investors\n",
    "participate under the same conditions, providing capital in equal parts."
   ]
  },
  {
   "cell_type": "code",
   "execution_count": 498,
   "metadata": {
    "collapsed": true
   },
   "outputs": [],
   "source": [
    "companies_investments_query = \"\"\"\n",
    "\n",
    "SELECT o.uuid AS company_uuid, f.funding_round_type, f.funding_round_code,\n",
    "       f.announced_on AS on, f.raised_amount_usd / f.investor_count AS amount \n",
    "FROM crunchbase_organizations  AS o\n",
    "JOIN crunchbase_investments    AS i\n",
    "        ON o.uuid = i.investor_uuid\n",
    "JOIN crunchbase_funding_rounds AS f\n",
    "        ON i.funding_round_uuid = f.funding_round_uuid\n",
    "\n",
    "\"\"\"\n",
    "\n",
    "investments = join(companies_investments_query, orgs)"
   ]
  },
  {
   "cell_type": "markdown",
   "metadata": {},
   "source": [
    "#### Funding rounds (investments received by companies)"
   ]
  },
  {
   "cell_type": "code",
   "execution_count": 496,
   "metadata": {
    "collapsed": false
   },
   "outputs": [],
   "source": [
    "companies_rounds_query = \"\"\"\n",
    "\n",
    "SELECT company_uuid, funding_round_type, funding_round_code,\n",
    "       announced_on AS on, raised_amount_usd AS amount, investor_count\n",
    "FROM crunchbase_funding_rounds\n",
    "\n",
    "\"\"\"\n",
    "\n",
    "rounds = join(companies_rounds_query, orgs).sort_values(by='days', ascending=False)"
   ]
  },
  {
   "cell_type": "markdown",
   "metadata": {},
   "source": [
    "#### Investments (made by investors)\n",
    "\n",
    "Crunchbase does not tell the invested amount per investor in a funding round,\n",
    "it does tell the raised amount (total amount) and number of investors.\n",
    "The best guess we can do is to suppose that in a funding round all investors\n",
    "participate under the same conditions, providing capital in equal parts."
   ]
  },
  {
   "cell_type": "code",
   "execution_count": 670,
   "metadata": {
    "collapsed": true
   },
   "outputs": [],
   "source": [
    "investors_investments_query = \"\"\"\n",
    "\n",
    "SELECT f.company_uuid, i.investor_uuid, i.funding_round_uuid,\n",
    "       i.is_lead_investor, f.funding_round_type, f.funding_round_code,\n",
    "       f.announced_on AS on, f.raised_amount_usd / f.investor_count AS amount\n",
    "FROM crunchbase_investments    AS i\n",
    "JOIN crunchbase_funding_rounds AS f\n",
    "        ON i.funding_round_uuid = f.funding_round_uuid\n",
    "\n",
    "\"\"\"\n",
    "\n",
    "investors_investments = join(investors_investments_query, orgs)\n",
    "investors_investments.investor_uuid = investors_investments.investor_uuid.astype('str')\n",
    "investors_investments.funding_round_uuid = investors_investments.funding_round_uuid.astype('str')\n",
    "\n",
    "# return and loss fields aggregated will be the investors' successes and failures count (True counts as 1 and False as 0)\n",
    "investors_investments['return'] = investors_investments.merged_status == 'exited'\n",
    "investors_investments['loss']   = investors_investments.merged_status == 'closed'\n",
    "\n",
    "# if lead investor count is bigger than one, set it to zero\n",
    "ii = investors_investments.groupby('funding_round_uuid', sort=False).filter(lambda x: x.is_lead_investor.sum() > 1)\n",
    "investors_investments.loc[ii.index, 'is_lead_investor'] = False"
   ]
  },
  {
   "cell_type": "markdown",
   "metadata": {},
   "source": [
    "#### Investors"
   ]
  },
  {
   "cell_type": "code",
   "execution_count": 669,
   "metadata": {
    "collapsed": false
   },
   "outputs": [],
   "source": [
    "investors_query = \"\"\"\n",
    "\n",
    "SELECT uuid AS investor_uuid, investor_name, investor_type, cb_url AS crunchbase_url\n",
    "FROM crunchbase_investors\n",
    "\n",
    "\"\"\"\n",
    "\n",
    "investors = pd.read_sql_query(investors_query, connection)\n",
    "investors.investor_uuid = investors.investor_uuid.astype('str')\n",
    "investors.set_index('investor_uuid', inplace=True)\n",
    "\n",
    "\n",
    "investor_type_map = {\n",
    "    None:'Unknown',\n",
    "    'venture_capital':'Venture capital',\n",
    "    'accelerator':'Accelerator',\n",
    "    'corporate_venture_capital':'Corporate venture capital',\n",
    "    'micro_vc':'Micro venture capital',\n",
    "    'individual':'Individual',\n",
    "    'investment_bank':'Investment bank',\n",
    "    'funding_platform':'Funding platform',\n",
    "    'angel_group':'Angel group',\n",
    "    'private_equity_firm':'Private equity firm',\n",
    "    'non_equity_program':'Non-equity program',\n",
    "    'incubator':'Incubator',\n",
    "    'venture_debt':'Venture debt',\n",
    "    'government_office':'Government office',\n",
    "    'hedge_fund':'Hedge fund',\n",
    "    'co_working_space':'Co-working space',\n",
    "    'family_investment_office':'Family investment office',\n",
    "    'university_program':'University program',\n",
    "    'fund_of_funds':'Fund of funds',\n",
    "    'secondary_purchaser':'Secondary purchaser',\n",
    "    'technology_transfer_office':'Technology transfer office',\n",
    "    'startup_competition':'Startup competition'\n",
    "}\n",
    "\n",
    "investors.investor_type = investors.investor_type.map(investor_type_map) "
   ]
  },
  {
   "cell_type": "markdown",
   "metadata": {},
   "source": [
    "## Investor features\n",
    "\n",
    "### Investor network\n",
    "\n",
    "We are going to perform a social network analysis to the investor ecosystem in order to extract an **investor score**; for this we build a network of influence, a directed graph where nodes are investors and edges are subtended from influenced investors (out-edges) to influential investors (in-edges). Self-loops are not allowed.\n",
    "\n",
    "A connection between investors is made —*or strengthened* if the connection already exists— whenever the investors invest in the same company, this is the *weight* property of the edges. The connection is directed because we are considering the causality of the events. We are supposing that *investing in a company where others have invested is being influenced by these others*. Of course, this not necessarily holds true but the stronger the connection, the stronger the correlation.\n",
    "\n",
    "Rounding up, we count **influence** this way: \n",
    "* An investor influences all investors from posterior funding rounds.\n",
    "* An investor is influenced by all investors from previous funding rounds.\n",
    "* Within the same funding round, the lead investor if any, influences the rest of the participants."
   ]
  },
  {
   "cell_type": "code",
   "execution_count": 668,
   "metadata": {
    "collapsed": true
   },
   "outputs": [],
   "source": [
    "import networkx as nx\n",
    "\n",
    "def investors_graph(investments):\n",
    "    G  = nx.DiGraph()\n",
    "    \n",
    "    for company_uuid, company_investments in investments.groupby('company_uuid', sort=False):\n",
    "        \n",
    "        funding_rounds = [funding_round for _, funding_round in \\\n",
    "                          company_investments.sort_values(by='on').groupby('funding_round_uuid', sort=False)]\n",
    "    \n",
    "        for anterior_funding_round in funding_rounds:\n",
    "            for posterior_funding_round in funding_rounds:\n",
    "                \n",
    "                if anterior_funding_round.on.iloc[0] < posterior_funding_round.on.iloc[0]:\n",
    "            \n",
    "                    for anterior_investor in anterior_funding_round.investor_uuid:\n",
    "                        for posterior_investor in posterior_funding_round.investor_uuid:\n",
    "                        \n",
    "                            if anterior_investor == posterior_investor: pass # avoid self-loops\n",
    "                        \n",
    "                            G.add_edge(posterior_investor, anterior_investor) # if the edge already exists it does not get replaced\n",
    "                            edge = G.edge[posterior_investor][anterior_investor] # previous line does not return the edge, sadly\n",
    "                            edge['weight'] = edge.get('weight', 0) + 1\n",
    "                \n",
    "                # TODO: corner case: different funding rounds on the same day \n",
    "                elif anterior_funding_round.on.iloc[0] == posterior_funding_round.on.iloc[0]:\n",
    "                    \n",
    "                    lead = anterior_funding_round[anterior_funding_round.is_lead_investor == True]\n",
    "                    \n",
    "                    if len(lead) == 1:\n",
    "                        lead_investor = lead.investor_uuid.iloc[0]\n",
    "                    \n",
    "                        for other_investor in posterior_funding_round.investor_uuid:\n",
    "                        \n",
    "                            if lead_investor == other_investor: pass # avoid self-loops\n",
    "                        \n",
    "                            G.add_edge(other_investor, lead_investor) # if the edge already exists it does not get replaced\n",
    "                            edge = G.edge[other_investor][lead_investor] # previous line does not return the edge, sadly\n",
    "                            edge['weight'] = edge.get('weight', 0) + 1\n",
    "                    \n",
    "    return G"
   ]
  },
  {
   "cell_type": "markdown",
   "metadata": {},
   "source": [
    "### Investor score\n",
    "\n",
    "We apply the *Katz centrality* measure to measure the relative degree of influence of each investor in the network.\n",
    "\n",
    "Centrality indices are explicitly designed to produce a ranking which allows indication of the most important vertices; they are not designed to measure the influence of nodes in general.\n",
    "\n",
    "A ranking only orders vertices by importance, it does not quantify the difference in importance between different levels of the ranking. The features which (correctly) identify the most important vertices in a given network do not necessarily generalize to the remaining vertices; for the majority of other network nodes the rankings may be meaningless.\n",
    "\n",
    "See:\n",
    "* [Centrality](https://en.wikipedia.org/wiki/Centrality)\n",
    "* [Katz centrality](https://en.wikipedia.org/wiki/Katz_centrality)\n",
    "* [Node influence metric](https://en.wikipedia.org/wiki/Node_influence_metric)"
   ]
  },
  {
   "cell_type": "markdown",
   "metadata": {},
   "source": [
    "### Investor activity characteristic time\n",
    "\n",
    "*Half-life* is the time required for a quantity to reduce to half its initial value [https://en.wikipedia.org/wiki/Half-life].\n",
    "\n",
    "We define the **investor activity time** as the lapse since an investor makes its first investment till its last one, in other words, it becomes inactive. It is desirable to obtain the median activity time: the time length around which half of the investors shall be inactive."
   ]
  },
  {
   "cell_type": "code",
   "execution_count": 355,
   "metadata": {
    "collapsed": false,
    "scrolled": false
   },
   "outputs": [
    {
     "data": {
      "image/png": "[encoded data removed]",
      "text/plain": [
       "<matplotlib.figure.Figure at 0x7fe74836a278>"
      ]
     },
     "metadata": {},
     "output_type": "display_data"
    }
   ],
   "source": [
    "activity = investors_investments.groupby('investor_uuid').on.apply(lambda x: (x.max() - x.min()).days)\n",
    "activity = activity[activity != 0] / 365 # neglect one-time investors\n",
    "\n",
    "sn.distplot(activity, kde=False, norm_hist=True)\n",
    "plt.xlabel('Years')\n",
    "plt.ylabel('Density')\n",
    "plt.savefig('investments_by_years.png')"
   ]
  },
  {
   "cell_type": "markdown",
   "metadata": {},
   "source": [
    "Observing the plot, activity's half-life is about **3 years**. This means that *the average investor gathers and invests its entire capital in that time*. \n",
    "\n",
    "When calculating the investor influence, only the last 3 years of investors’ actions are considered. This way influence does not accumulate forever but increases or decreases in time.\n",
    "\n",
    "Time segments are disposed in quarters—in other words we take 3-year snapshots of investment data each 3 months."
   ]
  },
  {
   "cell_type": "code",
   "execution_count": 671,
   "metadata": {
    "collapsed": false
   },
   "outputs": [],
   "source": [
    "from datetime import datetime\n",
    "\n",
    "# generate quarters\n",
    "dates = [datetime(year, month, 1) for year in range(LEAST_RECENT_DATA_SET_DATE.year, MOST_RECENT_DATA_SET_DATE.year + 1) \\\n",
    "         for month in (1,4,7,10) if year < MOST_RECENT_DATA_SET_DATE.year or month < MOST_RECENT_DATA_SET_DATE.month]\n",
    "\n",
    "# generate 3-year segments (12-quarter segments) rolling on quarters\n",
    "time_segments = zip(dates, dates[12:])"
   ]
  },
  {
   "cell_type": "markdown",
   "metadata": {},
   "source": [
    "### Computation of features"
   ]
  },
  {
   "cell_type": "code",
   "execution_count": 672,
   "metadata": {
    "collapsed": false
   },
   "outputs": [],
   "source": [
    "investor_features = pd.DataFrame()\n",
    "\n",
    "for date_from, date_to in time_segments:\n",
    "    time_segmented_investments = investors_investments[investors_investments.on.between(date_from, date_to, inclusive=False)]\n",
    "    \n",
    "    # FEATURES\n",
    "    \n",
    "    # aggregation by investor\n",
    "    features = time_segmented_investments.groupby('investor_uuid', sort=False).agg({\n",
    "        'company_uuid':'nunique',\n",
    "        'funding_round_type':'count',\n",
    "        'funding_round_code':'count',\n",
    "        'is_lead_investor':'sum',\n",
    "        'return':'sum',\n",
    "        'loss':'sum',\n",
    "        'amount':'sum'\n",
    "    })\n",
    "\n",
    "    # column renaming to more meaningful names\n",
    "    features.rename(columns={\n",
    "        'company_uuid':'investor_companies',\n",
    "        'funding_round_type':'investor_rounds',\n",
    "        'funding_round_code':'investor_venture_rounds',\n",
    "        'is_lead_investor':'investor_leads',\n",
    "        'return':'investor_returns',\n",
    "        'loss':'investor_losses',\n",
    "        'amount':'investor_amount'\n",
    "    }, inplace=True)\n",
    "\n",
    "    # SOCIAL NETWORK ANALYSIS\n",
    "    \n",
    "    G = investors_graph(time_segmented_investments)\n",
    "    features['investor_score'] = pd.Series( nx.katz_centrality(G, weight='weight', alpha=0.001) )\n",
    "    features.fillna(0, inplace=True)\n",
    "    features['investor_rank']  = features.investor_score.rank(ascending=False)\n",
    "    \n",
    "    features['from']  = date_from\n",
    "    features['to']    = date_to\n",
    "    investor_features = investor_features.append(features)"
   ]
  },
  {
   "cell_type": "markdown",
   "metadata": {},
   "source": [
    "Persist investor features and the most recent investor network."
   ]
  },
  {
   "cell_type": "code",
   "execution_count": 673,
   "metadata": {
    "collapsed": true
   },
   "outputs": [],
   "source": [
    "investor_features.to_csv('investor_features.csv')\n",
    "\n",
    "recent = investor_features[investor_features.to == date_to]\n",
    "\n",
    "recent = pd.DataFrame.merge(investors, recent, left_index=True, right_index=True, how='inner') \\\n",
    "           .sort_values(by='investor_rank').drop(['from', 'to'], axis=1)\n",
    "\n",
    "recent.to_csv('investor_influence_graph_metadata_%s.csv' % date_to.strftime('%Y-%m-%d'))\n",
    "\n",
    "nx.write_gpickle(G, 'investor_influence_graph_%s.pickle' % date_to.strftime('%Y-%m-%d'))"
   ]
  }
 ],
 "metadata": {
  "kernelspec": {
   "display_name": "Python 3",
   "language": "python",
   "name": "python3"
  },
  "language_info": {
   "codemirror_mode": {
    "name": "ipython",
    "version": 3
   },
   "file_extension": ".py",
   "mimetype": "text/x-python",
   "name": "python",
   "nbconvert_exporter": "python",
   "pygments_lexer": "ipython3",
   "version": "3.5.2"
  }
 },
 "nbformat": 4,
 "nbformat_minor": 2
}
